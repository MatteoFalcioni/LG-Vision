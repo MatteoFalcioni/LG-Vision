{
 "cells": [
  {
   "cell_type": "markdown",
   "id": "9f549f80",
   "metadata": {},
   "source": [
    "# Parallel Processing for Street View Analysis\n",
    "\n",
    "## Overview\n",
    "This notebook implements parallel processing for analyzing thousands of Street View images using LangGraph with multiple concurrent nodes.\n",
    "\n",
    "## Problem Statement\n",
    "- **Scale**: Thousands of locations × multiple orientations (horizon/ground/sky) = 10k+ images\n",
    "- **Bottleneck**: Sequential AI model calls would take hours\n",
    "- **Solution**: Parallel processing with bounded concurrency\n",
    "\n",
    "## Architecture\n",
    "- **Input**: CSV with Street View URLs (from `google_apis.ipynb`)\n",
    "- **Processing**: LangGraph parallel nodes for vision analysis\n",
    "- **Output**: Graded/analyzed results per image\n",
    "\n",
    "## Concurrency Strategy\n",
    "- **Measure**: Single call latency (L) for vision model\n",
    "- **Calculate**: k ≈ T × L (where T = target throughput)\n",
    "- **Start**: k=16 nodes, scale up based on provider limits\n",
    "- **Monitor**: 429 errors, latency percentiles, success rates\n",
    "\n",
    "## Key Considerations\n",
    "- **Provider Limits**: API rate limits and concurrent request caps\n",
    "- **Rate Limiting**: Client-side throttling to avoid 429s\n",
    "- **Retry Logic**: Exponential backoff with jitter\n",
    "- **Checkpointing**: Idempotent tasks to avoid duplicate billing\n",
    "- **Budget Guards**: Max requests per minute/hour\n",
    "\n",
    "## Implementation Plan\n",
    "1. Load CSV and create work queue\n",
    "2. Implement bounded concurrency with LangGraph\n",
    "3. Add retry logic and rate limiting\n",
    "4. Monitor metrics and scale accordingly"
   ]
  },
  {
   "cell_type": "code",
   "execution_count": 6,
   "id": "fc118e77",
   "metadata": {},
   "outputs": [],
   "source": [
    "import sys\n",
    "from pathlib import Path\n",
    "\n",
    "sys.path.append(str(Path().absolute().parent))  # This makes the parent directory available so you can use clean absolute imports like from src.graph import ..."
   ]
  },
  {
   "cell_type": "code",
   "execution_count": 8,
   "id": "505a2cfe",
   "metadata": {},
   "outputs": [
    {
     "ename": "ModuleNotFoundError",
     "evalue": "No module named 'src.graph'",
     "output_type": "error",
     "traceback": [
      "\u001b[31m---------------------------------------------------------------------------\u001b[39m",
      "\u001b[31mModuleNotFoundError\u001b[39m                       Traceback (most recent call last)",
      "\u001b[36mCell\u001b[39m\u001b[36m \u001b[39m\u001b[32mIn[8]\u001b[39m\u001b[32m, line 1\u001b[39m\n\u001b[32m----> \u001b[39m\u001b[32m1\u001b[39m \u001b[38;5;28;01mfrom\u001b[39;00m\u001b[38;5;250m \u001b[39m\u001b[34;01msrc\u001b[39;00m\u001b[34;01m.\u001b[39;00m\u001b[34;01mgraph\u001b[39;00m\u001b[38;5;250m \u001b[39m\u001b[38;5;28;01mimport\u001b[39;00m get_graph\n",
      "\u001b[31mModuleNotFoundError\u001b[39m: No module named 'src.graph'"
     ]
    }
   ],
   "source": [
    "from src.graph import get_graph"
   ]
  }
 ],
 "metadata": {
  "kernelspec": {
   "display_name": "langgraph-multimodal",
   "language": "python",
   "name": "python3"
  },
  "language_info": {
   "codemirror_mode": {
    "name": "ipython",
    "version": 3
   },
   "file_extension": ".py",
   "mimetype": "text/x-python",
   "name": "python",
   "nbconvert_exporter": "python",
   "pygments_lexer": "ipython3",
   "version": "3.11.0"
  }
 },
 "nbformat": 4,
 "nbformat_minor": 5
}
